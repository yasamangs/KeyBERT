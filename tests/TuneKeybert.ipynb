{
 "cells": [
  {
   "cell_type": "code",
   "execution_count": 1,
   "metadata": {},
   "outputs": [
    {
     "name": "stderr",
     "output_type": "stream",
     "text": [
      "/Users/yasaman/anaconda3/envs/NLP/lib/python3.9/site-packages/tqdm/auto.py:21: TqdmWarning: IProgress not found. Please update jupyter and ipywidgets. See https://ipywidgets.readthedocs.io/en/stable/user_install.html\n",
      "  from .autonotebook import tqdm as notebook_tqdm\n"
     ]
    }
   ],
   "source": [
    "import itertools\n",
    "from test_extension import advanced_postprocess\n",
    "from keybert import KeyBERT\n",
    "from tqdm import tqdm\n",
    "import os"
   ]
  },
  {
   "cell_type": "code",
   "execution_count": 2,
   "metadata": {},
   "outputs": [],
   "source": [
    "# Parameter grids\n",
    "ngram_ranges = [(1,2), (1,3), (2,2), (2,3), (3,3)]\n",
    "nr_candidates_list = [5, 6, 7, 8]\n",
    "diversity_params = [0.2, 0.3, 0.4, 0.5, 0.6]\n",
    "model_name = \"all-MiniLM-L12-v2\"\n",
    "N = 5  # Number of keywords to extract"
   ]
  },
  {
   "cell_type": "code",
   "execution_count": 3,
   "metadata": {},
   "outputs": [],
   "source": [
    "# Load spaCy\n",
    "import spacy\n",
    "nlp = spacy.load(\"en_core_web_sm\")"
   ]
  },
  {
   "cell_type": "code",
   "execution_count": 5,
   "metadata": {},
   "outputs": [],
   "source": [
    "def evaluate_results(results_post, gold_keywords):\n",
    "    # Compute average exact precision and partial match precision\n",
    "    exact_scores = []\n",
    "    partial_scores = []\n",
    "    for pred, gold in zip(results_post, gold_keywords):\n",
    "        pred_set = set(pred)\n",
    "        gold_set = set(gold)\n",
    "        exact = len(pred_set & gold_set) / len(pred_set) if pred_set else 0\n",
    "        partial = sum(1 for p in pred if any(p in g or g in p for g in gold)) / len(pred) if pred else 0\n",
    "        exact_scores.append(exact)\n",
    "        partial_scores.append(partial)\n",
    "    return sum(exact_scores)/len(exact_scores), sum(partial_scores)/len(partial_scores)"
   ]
  },
  {
   "cell_type": "code",
   "execution_count": 6,
   "metadata": {},
   "outputs": [],
   "source": [
    "def run_experiment(use_mmr=False, use_maxsum=False):\n",
    "    best_exact = 0\n",
    "    best_partial = 0\n",
    "    best_params_exact = None\n",
    "    best_params_partial = None\n",
    "\n",
    "    for ngram_range, nr_candidates in itertools.product(ngram_ranges, nr_candidates_list):\n",
    "        if use_mmr:\n",
    "            for diversity in diversity_params:\n",
    "                kw_model = KeyBERT(model_name)\n",
    "                results_post = []\n",
    "                for doc in tqdm(docs, desc=f\"MMR ngram={ngram_range} nc={nr_candidates} div={diversity}\"):\n",
    "                    kws_post = kw_model.extract_keywords(\n",
    "                        doc, top_n=N,\n",
    "                        keyphrase_ngram_range=ngram_range,\n",
    "                        use_mmr=True,\n",
    "                        diversity=diversity,\n",
    "                        nr_candidates=nr_candidates,\n",
    "                        postprocess=lambda kws: advanced_postprocess(kws, doc, nlp)\n",
    "                    )\n",
    "                    kws_post = [kw for kw, _ in kws_post]\n",
    "                    results_post.append(kws_post)\n",
    "                # Evaluate\n",
    "                exact, partial = evaluate_results(results_post, gold_keywords)\n",
    "                if exact > best_exact:\n",
    "                    best_exact = exact\n",
    "                    best_params_exact = (ngram_range, nr_candidates, diversity)\n",
    "                if partial > best_partial:\n",
    "                    best_partial = partial\n",
    "                    best_params_partial = (ngram_range, nr_candidates, diversity)\n",
    "        elif use_maxsum:\n",
    "            kw_model = KeyBERT(model_name)\n",
    "            results_post = []\n",
    "            for doc in tqdm(docs, desc=f\"MaxSum ngram={ngram_range} nc={nr_candidates}\"):\n",
    "                kws_post = kw_model.extract_keywords(\n",
    "                    doc, top_n=N,\n",
    "                    keyphrase_ngram_range=ngram_range,\n",
    "                    use_maxsum=True,\n",
    "                    nr_candidates=nr_candidates,\n",
    "                    postprocess=lambda kws: advanced_postprocess(kws, doc, nlp)\n",
    "                )\n",
    "                kws_post = [kw for kw, _ in kws_post]\n",
    "                results_post.append(kws_post)\n",
    "            # Evaluate\n",
    "            exact, partial = evaluate_results(results_post, gold_keywords)\n",
    "            if exact > best_exact:\n",
    "                best_exact = exact\n",
    "                best_params_exact = (ngram_range, nr_candidates)\n",
    "            if partial > best_partial:\n",
    "                best_partial = partial\n",
    "                best_params_partial = (ngram_range, nr_candidates)\n",
    "    return best_exact, best_params_exact, best_partial, best_params_partial"
   ]
  },
  {
   "cell_type": "markdown",
   "metadata": {},
   "source": [
    "## 500N dataset"
   ]
  },
  {
   "cell_type": "code",
   "execution_count": 4,
   "metadata": {},
   "outputs": [],
   "source": [
    "import os\n",
    "\n",
    "# read docs and gold keywords   \n",
    "\n",
    "docs_dir = os.path.join(\"500N-KPCrowd-v1.1\", \"500N-KPCrowd-v1.1/docsutf8\")\n",
    "keys_dir = os.path.join(\"500N-KPCrowd-v1.1\", \"500N-KPCrowd-v1.1/keys\")\n",
    "doc_files = sorted(os.listdir(docs_dir))\n",
    "key_files = sorted(os.listdir(keys_dir))\n",
    "docs = []\n",
    "gold_keywords = [] \n",
    "for doc_file, key_file in zip(doc_files, key_files):\n",
    "    with open(os.path.join(docs_dir, doc_file), encoding='utf-8') as f:\n",
    "        docs.append(f.read())\n",
    "    with open(os.path.join(keys_dir, key_file), encoding='utf-8') as f:\n",
    "        gold_keywords.append([line.strip().lower() for line in f if line.strip()])"
   ]
  },
  {
   "cell_type": "code",
   "execution_count": 11,
   "metadata": {},
   "outputs": [
    {
     "name": "stderr",
     "output_type": "stream",
     "text": [
      "MMR ngram=(1, 2) nc=5 div=0.2: 100%|██████████| 500/500 [04:18<00:00,  1.93it/s]\n",
      "MMR ngram=(1, 2) nc=5 div=0.3: 100%|██████████| 500/500 [04:14<00:00,  1.97it/s]\n",
      "MMR ngram=(1, 2) nc=5 div=0.4: 100%|██████████| 500/500 [03:57<00:00,  2.11it/s]\n",
      "MMR ngram=(1, 2) nc=5 div=0.5: 100%|██████████| 500/500 [03:59<00:00,  2.09it/s]\n",
      "MMR ngram=(1, 2) nc=5 div=0.6: 100%|██████████| 500/500 [04:10<00:00,  2.00it/s]\n",
      "MMR ngram=(1, 2) nc=6 div=0.2: 100%|██████████| 500/500 [04:10<00:00,  1.99it/s]\n",
      "MMR ngram=(1, 2) nc=6 div=0.3: 100%|██████████| 500/500 [04:18<00:00,  1.94it/s]\n",
      "MMR ngram=(1, 2) nc=6 div=0.4: 100%|██████████| 500/500 [04:21<00:00,  1.91it/s]\n",
      "MMR ngram=(1, 2) nc=6 div=0.5: 100%|██████████| 500/500 [03:58<00:00,  2.10it/s]\n",
      "MMR ngram=(1, 2) nc=6 div=0.6: 100%|██████████| 500/500 [04:02<00:00,  2.06it/s]\n",
      "MMR ngram=(1, 2) nc=7 div=0.2: 100%|██████████| 500/500 [04:01<00:00,  2.07it/s]\n",
      "MMR ngram=(1, 2) nc=7 div=0.3: 100%|██████████| 500/500 [04:08<00:00,  2.01it/s]\n",
      "MMR ngram=(1, 2) nc=7 div=0.4: 100%|██████████| 500/500 [03:52<00:00,  2.15it/s]\n",
      "MMR ngram=(1, 2) nc=7 div=0.5: 100%|██████████| 500/500 [03:36<00:00,  2.31it/s]\n",
      "MMR ngram=(1, 2) nc=7 div=0.6: 100%|██████████| 500/500 [03:34<00:00,  2.33it/s]\n",
      "MMR ngram=(1, 2) nc=8 div=0.2: 100%|██████████| 500/500 [03:32<00:00,  2.35it/s]\n",
      "MMR ngram=(1, 2) nc=8 div=0.3: 100%|██████████| 500/500 [03:38<00:00,  2.29it/s]\n",
      "MMR ngram=(1, 2) nc=8 div=0.4: 100%|██████████| 500/500 [03:34<00:00,  2.33it/s]\n",
      "MMR ngram=(1, 2) nc=8 div=0.5: 100%|██████████| 500/500 [03:37<00:00,  2.30it/s]\n",
      "MMR ngram=(1, 2) nc=8 div=0.6: 100%|██████████| 500/500 [03:44<00:00,  2.23it/s]\n",
      "MMR ngram=(1, 3) nc=5 div=0.2: 100%|██████████| 500/500 [05:20<00:00,  1.56it/s]\n",
      "MMR ngram=(1, 3) nc=5 div=0.3: 100%|██████████| 500/500 [05:23<00:00,  1.54it/s]\n",
      "MMR ngram=(1, 3) nc=5 div=0.4: 100%|██████████| 500/500 [05:19<00:00,  1.56it/s]\n",
      "MMR ngram=(1, 3) nc=5 div=0.5: 100%|██████████| 500/500 [05:25<00:00,  1.54it/s]\n",
      "MMR ngram=(1, 3) nc=5 div=0.6: 100%|██████████| 500/500 [05:21<00:00,  1.55it/s]\n",
      "MMR ngram=(1, 3) nc=6 div=0.2: 100%|██████████| 500/500 [05:31<00:00,  1.51it/s]\n",
      "MMR ngram=(1, 3) nc=6 div=0.3: 100%|██████████| 500/500 [05:25<00:00,  1.54it/s]\n",
      "MMR ngram=(1, 3) nc=6 div=0.4: 100%|██████████| 500/500 [05:31<00:00,  1.51it/s]\n",
      "MMR ngram=(1, 3) nc=6 div=0.5: 100%|██████████| 500/500 [05:30<00:00,  1.51it/s]\n",
      "MMR ngram=(1, 3) nc=6 div=0.6: 100%|██████████| 500/500 [05:21<00:00,  1.55it/s]\n",
      "MMR ngram=(1, 3) nc=7 div=0.2: 100%|██████████| 500/500 [10:23<00:00,  1.25s/it]\n",
      "MMR ngram=(1, 3) nc=7 div=0.3: 100%|██████████| 500/500 [13:49<00:00,  1.66s/it]\n",
      "MMR ngram=(1, 3) nc=7 div=0.4: 100%|██████████| 500/500 [07:46<00:00,  1.07it/s]\n",
      "MMR ngram=(1, 3) nc=7 div=0.5: 100%|██████████| 500/500 [06:17<00:00,  1.33it/s]\n",
      "MMR ngram=(1, 3) nc=7 div=0.6: 100%|██████████| 500/500 [06:21<00:00,  1.31it/s]\n",
      "MMR ngram=(1, 3) nc=8 div=0.2: 100%|██████████| 500/500 [09:02<00:00,  1.08s/it]\n",
      "MMR ngram=(1, 3) nc=8 div=0.3: 100%|██████████| 500/500 [08:07<00:00,  1.03it/s]\n",
      "MMR ngram=(1, 3) nc=8 div=0.4: 100%|██████████| 500/500 [10:14<00:00,  1.23s/it]\n",
      "MMR ngram=(1, 3) nc=8 div=0.5: 100%|██████████| 500/500 [07:33<00:00,  1.10it/s]\n",
      "MMR ngram=(1, 3) nc=8 div=0.6: 100%|██████████| 500/500 [11:55<00:00,  1.43s/it]\n",
      "MMR ngram=(2, 2) nc=5 div=0.2: 100%|██████████| 500/500 [04:06<00:00,  2.03it/s]\n",
      "MMR ngram=(2, 2) nc=5 div=0.3: 100%|██████████| 500/500 [03:28<00:00,  2.40it/s]\n",
      "MMR ngram=(2, 2) nc=5 div=0.4: 100%|██████████| 500/500 [03:36<00:00,  2.31it/s]\n",
      "MMR ngram=(2, 2) nc=5 div=0.5: 100%|██████████| 500/500 [03:50<00:00,  2.17it/s]\n",
      "MMR ngram=(2, 2) nc=5 div=0.6: 100%|██████████| 500/500 [03:32<00:00,  2.35it/s]\n",
      "MMR ngram=(2, 2) nc=6 div=0.2: 100%|██████████| 500/500 [03:22<00:00,  2.47it/s]\n",
      "MMR ngram=(2, 2) nc=6 div=0.3: 100%|██████████| 500/500 [03:04<00:00,  2.72it/s]\n",
      "MMR ngram=(2, 2) nc=6 div=0.4: 100%|██████████| 500/500 [03:00<00:00,  2.77it/s]\n",
      "MMR ngram=(2, 2) nc=6 div=0.5: 100%|██████████| 500/500 [03:00<00:00,  2.77it/s]\n",
      "MMR ngram=(2, 2) nc=6 div=0.6: 100%|██████████| 500/500 [02:57<00:00,  2.81it/s]\n",
      "MMR ngram=(2, 2) nc=7 div=0.2: 100%|██████████| 500/500 [03:01<00:00,  2.76it/s]\n",
      "MMR ngram=(2, 2) nc=7 div=0.3: 100%|██████████| 500/500 [03:05<00:00,  2.69it/s]\n",
      "MMR ngram=(2, 2) nc=7 div=0.4: 100%|██████████| 500/500 [03:08<00:00,  2.66it/s]\n",
      "MMR ngram=(2, 2) nc=7 div=0.5: 100%|██████████| 500/500 [03:06<00:00,  2.68it/s]\n",
      "MMR ngram=(2, 2) nc=7 div=0.6: 100%|██████████| 500/500 [03:06<00:00,  2.68it/s]\n",
      "MMR ngram=(2, 2) nc=8 div=0.2: 100%|██████████| 500/500 [03:06<00:00,  2.68it/s]\n",
      "MMR ngram=(2, 2) nc=8 div=0.3: 100%|██████████| 500/500 [03:36<00:00,  2.31it/s]\n",
      "MMR ngram=(2, 2) nc=8 div=0.4: 100%|██████████| 500/500 [03:07<00:00,  2.66it/s]\n",
      "MMR ngram=(2, 2) nc=8 div=0.5: 100%|██████████| 500/500 [03:10<00:00,  2.62it/s]\n",
      "MMR ngram=(2, 2) nc=8 div=0.6: 100%|██████████| 500/500 [03:04<00:00,  2.71it/s]\n",
      "MMR ngram=(2, 3) nc=5 div=0.2: 100%|██████████| 500/500 [05:44<00:00,  1.45it/s]\n",
      "MMR ngram=(2, 3) nc=5 div=0.3: 100%|██████████| 500/500 [04:30<00:00,  1.85it/s]\n",
      "MMR ngram=(2, 3) nc=5 div=0.4: 100%|██████████| 500/500 [06:33<00:00,  1.27it/s]\n",
      "MMR ngram=(2, 3) nc=5 div=0.5: 100%|██████████| 500/500 [06:29<00:00,  1.28it/s]\n",
      "MMR ngram=(2, 3) nc=5 div=0.6: 100%|██████████| 500/500 [05:52<00:00,  1.42it/s]\n",
      "MMR ngram=(2, 3) nc=6 div=0.2: 100%|██████████| 500/500 [06:48<00:00,  1.22it/s]\n",
      "MMR ngram=(2, 3) nc=6 div=0.3: 100%|██████████| 500/500 [06:02<00:00,  1.38it/s]\n",
      "MMR ngram=(2, 3) nc=6 div=0.4: 100%|██████████| 500/500 [05:22<00:00,  1.55it/s]\n",
      "MMR ngram=(2, 3) nc=6 div=0.5: 100%|██████████| 500/500 [05:09<00:00,  1.62it/s]\n",
      "MMR ngram=(2, 3) nc=6 div=0.6: 100%|██████████| 500/500 [05:28<00:00,  1.52it/s]\n",
      "MMR ngram=(2, 3) nc=7 div=0.2: 100%|██████████| 500/500 [05:02<00:00,  1.65it/s]\n",
      "MMR ngram=(2, 3) nc=7 div=0.3: 100%|██████████| 500/500 [04:23<00:00,  1.90it/s]\n",
      "MMR ngram=(2, 3) nc=7 div=0.4: 100%|██████████| 500/500 [04:23<00:00,  1.90it/s]\n",
      "MMR ngram=(2, 3) nc=7 div=0.5: 100%|██████████| 500/500 [05:18<00:00,  1.57it/s]\n",
      "MMR ngram=(2, 3) nc=7 div=0.6: 100%|██████████| 500/500 [04:28<00:00,  1.86it/s]\n",
      "MMR ngram=(2, 3) nc=8 div=0.2: 100%|██████████| 500/500 [04:30<00:00,  1.85it/s]\n",
      "MMR ngram=(2, 3) nc=8 div=0.3: 100%|██████████| 500/500 [04:23<00:00,  1.90it/s]\n",
      "MMR ngram=(2, 3) nc=8 div=0.4: 100%|██████████| 500/500 [04:21<00:00,  1.91it/s]\n",
      "MMR ngram=(2, 3) nc=8 div=0.5: 100%|██████████| 500/500 [04:22<00:00,  1.91it/s]\n",
      "MMR ngram=(2, 3) nc=8 div=0.6: 100%|██████████| 500/500 [04:22<00:00,  1.91it/s]\n",
      "MMR ngram=(3, 3) nc=5 div=0.2: 100%|██████████| 500/500 [03:21<00:00,  2.48it/s]\n",
      "MMR ngram=(3, 3) nc=5 div=0.3: 100%|██████████| 500/500 [03:12<00:00,  2.60it/s]\n",
      "MMR ngram=(3, 3) nc=5 div=0.4: 100%|██████████| 500/500 [03:12<00:00,  2.60it/s]\n",
      "MMR ngram=(3, 3) nc=5 div=0.5: 100%|██████████| 500/500 [03:18<00:00,  2.51it/s]\n",
      "MMR ngram=(3, 3) nc=5 div=0.6: 100%|██████████| 500/500 [03:16<00:00,  2.55it/s]\n",
      "MMR ngram=(3, 3) nc=6 div=0.2: 100%|██████████| 500/500 [03:15<00:00,  2.56it/s]\n",
      "MMR ngram=(3, 3) nc=6 div=0.3: 100%|██████████| 500/500 [03:14<00:00,  2.57it/s]\n",
      "MMR ngram=(3, 3) nc=6 div=0.4: 100%|██████████| 500/500 [03:14<00:00,  2.57it/s]\n",
      "MMR ngram=(3, 3) nc=6 div=0.5: 100%|██████████| 500/500 [03:15<00:00,  2.56it/s]\n",
      "MMR ngram=(3, 3) nc=6 div=0.6: 100%|██████████| 500/500 [03:14<00:00,  2.57it/s]\n",
      "MMR ngram=(3, 3) nc=7 div=0.2: 100%|██████████| 500/500 [03:14<00:00,  2.57it/s]\n",
      "MMR ngram=(3, 3) nc=7 div=0.3: 100%|██████████| 500/500 [03:14<00:00,  2.56it/s]\n",
      "MMR ngram=(3, 3) nc=7 div=0.4: 100%|██████████| 500/500 [03:16<00:00,  2.54it/s]\n",
      "MMR ngram=(3, 3) nc=7 div=0.5: 100%|██████████| 500/500 [03:13<00:00,  2.59it/s]\n",
      "MMR ngram=(3, 3) nc=7 div=0.6: 100%|██████████| 500/500 [03:14<00:00,  2.57it/s]\n",
      "MMR ngram=(3, 3) nc=8 div=0.2: 100%|██████████| 500/500 [03:16<00:00,  2.54it/s]\n",
      "MMR ngram=(3, 3) nc=8 div=0.3: 100%|██████████| 500/500 [03:15<00:00,  2.56it/s]\n",
      "MMR ngram=(3, 3) nc=8 div=0.4: 100%|██████████| 500/500 [03:17<00:00,  2.53it/s]\n",
      "MMR ngram=(3, 3) nc=8 div=0.5: 100%|██████████| 500/500 [03:19<00:00,  2.51it/s]\n",
      "MMR ngram=(3, 3) nc=8 div=0.6: 100%|██████████| 500/500 [03:34<00:00,  2.33it/s]\n"
     ]
    }
   ],
   "source": [
    "# Run MMR tuning\n",
    "best_exact_mmr, best_params_exact_mmr, best_partial_mmr, best_params_partial_mmr = run_experiment(use_mmr=True)"
   ]
  },
  {
   "cell_type": "code",
   "execution_count": 12,
   "metadata": {},
   "outputs": [
    {
     "name": "stdout",
     "output_type": "stream",
     "text": [
      "best_exact_mmr, best_params_exact_mmr,: 0.14620000000000016, ((1, 2), 5, 0.4), best_partial_mmr, best_params_partial_mmr: 0.8235333333333336, ((1, 3), 5, 0.3)\n"
     ]
    }
   ],
   "source": [
    "print(f\"best_exact_mmr, best_params_exact_mmr,: {best_exact_mmr}, {best_params_exact_mmr}, best_partial_mmr, best_params_partial_mmr: {best_partial_mmr}, {best_params_partial_mmr}\")"
   ]
  },
  {
   "cell_type": "code",
   "execution_count": 7,
   "metadata": {},
   "outputs": [
    {
     "name": "stderr",
     "output_type": "stream",
     "text": [
      "MaxSum ngram=(1, 2) nc=5: 100%|██████████| 500/500 [05:14<00:00,  1.59it/s]\n",
      "MaxSum ngram=(1, 2) nc=6: 100%|██████████| 500/500 [04:37<00:00,  1.80it/s]\n",
      "MaxSum ngram=(1, 2) nc=7: 100%|██████████| 500/500 [04:34<00:00,  1.82it/s]\n",
      "MaxSum ngram=(1, 2) nc=8: 100%|██████████| 500/500 [04:20<00:00,  1.92it/s]\n",
      "MaxSum ngram=(1, 3) nc=5: 100%|██████████| 500/500 [06:22<00:00,  1.31it/s]\n",
      "MaxSum ngram=(1, 3) nc=6: 100%|██████████| 500/500 [06:47<00:00,  1.23it/s]\n",
      "MaxSum ngram=(1, 3) nc=7: 100%|██████████| 500/500 [06:59<00:00,  1.19it/s]\n",
      "MaxSum ngram=(1, 3) nc=8: 100%|██████████| 500/500 [06:22<00:00,  1.31it/s]\n",
      "MaxSum ngram=(2, 2) nc=5: 100%|██████████| 500/500 [03:02<00:00,  2.74it/s]\n",
      "MaxSum ngram=(2, 2) nc=6: 100%|██████████| 500/500 [02:47<00:00,  2.98it/s]\n",
      "MaxSum ngram=(2, 2) nc=7: 100%|██████████| 500/500 [02:45<00:00,  3.03it/s]\n",
      "MaxSum ngram=(2, 2) nc=8: 100%|██████████| 500/500 [02:57<00:00,  2.82it/s]\n",
      "MaxSum ngram=(2, 3) nc=5: 100%|██████████| 500/500 [04:38<00:00,  1.79it/s]\n",
      "MaxSum ngram=(2, 3) nc=6: 100%|██████████| 500/500 [04:53<00:00,  1.70it/s]\n",
      "MaxSum ngram=(2, 3) nc=7: 100%|██████████| 500/500 [04:37<00:00,  1.80it/s]\n",
      "MaxSum ngram=(2, 3) nc=8: 100%|██████████| 500/500 [04:41<00:00,  1.77it/s]\n",
      "MaxSum ngram=(3, 3) nc=5: 100%|██████████| 500/500 [03:27<00:00,  2.42it/s]\n",
      "MaxSum ngram=(3, 3) nc=6: 100%|██████████| 500/500 [02:58<00:00,  2.81it/s]\n",
      "MaxSum ngram=(3, 3) nc=7: 100%|██████████| 500/500 [03:10<00:00,  2.62it/s]\n",
      "MaxSum ngram=(3, 3) nc=8: 100%|██████████| 500/500 [03:02<00:00,  2.74it/s]\n"
     ]
    }
   ],
   "source": [
    "# Ruan MaxSum tuning\n",
    "best_exact_maxsum, best_params_exact_maxsum, best_partial_maxsum, best_params_partial_maxsum = run_experiment(use_maxsum=True)"
   ]
  },
  {
   "cell_type": "code",
   "execution_count": 8,
   "metadata": {},
   "outputs": [
    {
     "name": "stdout",
     "output_type": "stream",
     "text": [
      "best_exact_maxsum, best_params_exact_maxsum,: 0.16536666666666686, ((1, 2), 5), best_partial_maxsum, best_params_partial_maxsum: 0.8241666666666669, ((1, 2), 5)\n"
     ]
    }
   ],
   "source": [
    "print(f\"best_exact_maxsum, best_params_exact_maxsum,: {best_exact_maxsum}, {best_params_exact_maxsum}, best_partial_maxsum, best_params_partial_maxsum: {best_partial_maxsum}, {best_params_partial_maxsum}\")"
   ]
  },
  {
   "cell_type": "markdown",
   "metadata": {},
   "source": [
    "## SemEval2017 dataset"
   ]
  },
  {
   "cell_type": "code",
   "execution_count": 7,
   "metadata": {},
   "outputs": [],
   "source": [
    "import os\n",
    "\n",
    "# read docs and gold keywords   \n",
    "\n",
    "docs_dir = os.path.join(\"SemEval2017\", \"docsutf8\")\n",
    "keys_dir = os.path.join(\"SemEval2017\", \"keys\")\n",
    "doc_files = sorted(os.listdir(docs_dir))\n",
    "key_files = sorted(os.listdir(keys_dir))\n",
    "docs = []\n",
    "gold_keywords = [] \n",
    "for doc_file, key_file in zip(doc_files, key_files):\n",
    "    with open(os.path.join(docs_dir, doc_file), encoding='utf-8') as f:\n",
    "        docs.append(f.read())\n",
    "    with open(os.path.join(keys_dir, key_file), encoding='utf-8') as f:\n",
    "        gold_keywords.append([line.strip().lower() for line in f if line.strip()])"
   ]
  },
  {
   "cell_type": "code",
   "execution_count": 8,
   "metadata": {},
   "outputs": [
    {
     "data": {
      "text/plain": [
       "('This work shows how our approach based on the combination of Statistical Mechanics and nonlinear PDEs theory provides us with a novel and powerful tool to tackle phase transitions. This method leads to solution of perhaps the most known test-case that exhibits a first order phase transition (semi-heuristically described) such as the van der Waals model. In particular we have obtained the first global mean field partition function (Eq. (9)), for a system of finite number of particles. The partition function is a solution to the Klein–Gordon equation, reproduces the van der Waals isotherms away from the critical region and, in the thermodynamic limit N→∞ automatically encodes the Maxwell equal areas rule. The approach hereby presented is of remarkable simplicity, has been successfully applied to spin\\xa0 [17–19,14,16] and macroscopic thermodynamic systems\\xa0 [20,15] and can be further extended to include the larger class of models admitting partition functions of the form (4) to be used to extend to the critical region general equations of state of the form (7) including a class virial expansions.\\n',\n",
       " ['class virial expansions',\n",
       "  'field partition function',\n",
       "  'first order phase transition',\n",
       "  'general equations of state of the form',\n",
       "  'klein–gordon equation',\n",
       "  'macroscopic thermodynamic systems',\n",
       "  'maxwell equal areas rule',\n",
       "  'nonlinear pdes theory',\n",
       "  'partition function',\n",
       "  'partition functions of the form',\n",
       "  'phase transitions',\n",
       "  'spin',\n",
       "  'statistical mechanics',\n",
       "  'thermodynamic limit n→∞',\n",
       "  'van der waals isotherms',\n",
       "  'van der waals model'])"
      ]
     },
     "execution_count": 8,
     "metadata": {},
     "output_type": "execute_result"
    }
   ],
   "source": [
    "docs[3], gold_keywords[3]"
   ]
  },
  {
   "cell_type": "code",
   "execution_count": 9,
   "metadata": {},
   "outputs": [
    {
     "name": "stderr",
     "output_type": "stream",
     "text": [
      "MMR ngram=(1, 2) nc=5 div=0.2: 100%|██████████| 493/493 [03:17<00:00,  2.50it/s]\n",
      "MMR ngram=(1, 2) nc=5 div=0.3: 100%|██████████| 493/493 [02:27<00:00,  3.35it/s]\n",
      "MMR ngram=(1, 2) nc=5 div=0.4: 100%|██████████| 493/493 [02:24<00:00,  3.41it/s]\n",
      "MMR ngram=(1, 2) nc=5 div=0.5: 100%|██████████| 493/493 [02:25<00:00,  3.38it/s]\n",
      "MMR ngram=(1, 2) nc=5 div=0.6: 100%|██████████| 493/493 [02:35<00:00,  3.18it/s]\n",
      "MMR ngram=(1, 2) nc=6 div=0.2: 100%|██████████| 493/493 [02:33<00:00,  3.21it/s]\n",
      "MMR ngram=(1, 2) nc=6 div=0.3: 100%|██████████| 493/493 [02:53<00:00,  2.85it/s]\n",
      "MMR ngram=(1, 2) nc=6 div=0.4: 100%|██████████| 493/493 [02:25<00:00,  3.39it/s]\n",
      "MMR ngram=(1, 2) nc=6 div=0.5: 100%|██████████| 493/493 [02:25<00:00,  3.40it/s]\n",
      "MMR ngram=(1, 2) nc=6 div=0.6: 100%|██████████| 493/493 [02:29<00:00,  3.31it/s]\n",
      "MMR ngram=(1, 2) nc=7 div=0.2: 100%|██████████| 493/493 [02:24<00:00,  3.41it/s]\n",
      "MMR ngram=(1, 2) nc=7 div=0.3: 100%|██████████| 493/493 [02:25<00:00,  3.39it/s]\n",
      "MMR ngram=(1, 2) nc=7 div=0.4: 100%|██████████| 493/493 [02:40<00:00,  3.06it/s]\n",
      "MMR ngram=(1, 2) nc=7 div=0.5: 100%|██████████| 493/493 [02:23<00:00,  3.44it/s]\n",
      "MMR ngram=(1, 2) nc=7 div=0.6: 100%|██████████| 493/493 [03:11<00:00,  2.57it/s]\n",
      "MMR ngram=(1, 2) nc=8 div=0.2: 100%|██████████| 493/493 [02:46<00:00,  2.96it/s]\n",
      "MMR ngram=(1, 2) nc=8 div=0.3: 100%|██████████| 493/493 [02:25<00:00,  3.38it/s]\n",
      "MMR ngram=(1, 2) nc=8 div=0.4: 100%|██████████| 493/493 [02:29<00:00,  3.30it/s]\n",
      "MMR ngram=(1, 2) nc=8 div=0.5: 100%|██████████| 493/493 [02:28<00:00,  3.32it/s]\n",
      "MMR ngram=(1, 2) nc=8 div=0.6: 100%|██████████| 493/493 [02:41<00:00,  3.06it/s]\n",
      "MMR ngram=(1, 3) nc=5 div=0.2: 100%|██████████| 493/493 [03:47<00:00,  2.17it/s]\n",
      "MMR ngram=(1, 3) nc=5 div=0.3: 100%|██████████| 493/493 [03:51<00:00,  2.13it/s]\n",
      "MMR ngram=(1, 3) nc=5 div=0.4: 100%|██████████| 493/493 [03:40<00:00,  2.23it/s]\n",
      "MMR ngram=(1, 3) nc=5 div=0.5: 100%|██████████| 493/493 [04:25<00:00,  1.86it/s]\n",
      "MMR ngram=(1, 3) nc=5 div=0.6: 100%|██████████| 493/493 [03:34<00:00,  2.30it/s]\n",
      "MMR ngram=(1, 3) nc=6 div=0.2: 100%|██████████| 493/493 [03:28<00:00,  2.36it/s]\n",
      "MMR ngram=(1, 3) nc=6 div=0.3: 100%|██████████| 493/493 [03:33<00:00,  2.31it/s]\n",
      "MMR ngram=(1, 3) nc=6 div=0.4: 100%|██████████| 493/493 [03:34<00:00,  2.30it/s]\n",
      "MMR ngram=(1, 3) nc=6 div=0.5: 100%|██████████| 493/493 [03:22<00:00,  2.43it/s]\n",
      "MMR ngram=(1, 3) nc=6 div=0.6: 100%|██████████| 493/493 [03:36<00:00,  2.27it/s]\n",
      "MMR ngram=(1, 3) nc=7 div=0.2: 100%|██████████| 493/493 [03:45<00:00,  2.19it/s]\n",
      "MMR ngram=(1, 3) nc=7 div=0.3: 100%|██████████| 493/493 [03:53<00:00,  2.11it/s]\n",
      "MMR ngram=(1, 3) nc=7 div=0.4: 100%|██████████| 493/493 [03:35<00:00,  2.29it/s]\n",
      "MMR ngram=(1, 3) nc=7 div=0.5: 100%|██████████| 493/493 [03:59<00:00,  2.06it/s]\n",
      "MMR ngram=(1, 3) nc=7 div=0.6: 100%|██████████| 493/493 [03:38<00:00,  2.26it/s]\n",
      "MMR ngram=(1, 3) nc=8 div=0.2: 100%|██████████| 493/493 [03:54<00:00,  2.11it/s]\n",
      "MMR ngram=(1, 3) nc=8 div=0.3: 100%|██████████| 493/493 [03:56<00:00,  2.08it/s]\n",
      "MMR ngram=(1, 3) nc=8 div=0.4: 100%|██████████| 493/493 [03:27<00:00,  2.37it/s]\n",
      "MMR ngram=(1, 3) nc=8 div=0.5: 100%|██████████| 493/493 [03:25<00:00,  2.40it/s]\n",
      "MMR ngram=(1, 3) nc=8 div=0.6: 100%|██████████| 493/493 [03:28<00:00,  2.36it/s]\n",
      "MMR ngram=(2, 2) nc=5 div=0.2: 100%|██████████| 493/493 [02:19<00:00,  3.54it/s]\n",
      "MMR ngram=(2, 2) nc=5 div=0.3: 100%|██████████| 493/493 [01:48<00:00,  4.55it/s]\n",
      "MMR ngram=(2, 2) nc=5 div=0.4: 100%|██████████| 493/493 [01:52<00:00,  4.40it/s]\n",
      "MMR ngram=(2, 2) nc=5 div=0.5: 100%|██████████| 493/493 [02:03<00:00,  3.98it/s]\n",
      "MMR ngram=(2, 2) nc=5 div=0.6: 100%|██████████| 493/493 [02:48<00:00,  2.93it/s]\n",
      "MMR ngram=(2, 2) nc=6 div=0.2: 100%|██████████| 493/493 [02:23<00:00,  3.44it/s]\n",
      "MMR ngram=(2, 2) nc=6 div=0.3: 100%|██████████| 493/493 [02:20<00:00,  3.51it/s]\n",
      "MMR ngram=(2, 2) nc=6 div=0.4: 100%|██████████| 493/493 [02:05<00:00,  3.93it/s]\n",
      "MMR ngram=(2, 2) nc=6 div=0.5: 100%|██████████| 493/493 [01:54<00:00,  4.32it/s]\n",
      "MMR ngram=(2, 2) nc=6 div=0.6: 100%|██████████| 493/493 [01:55<00:00,  4.28it/s]\n",
      "MMR ngram=(2, 2) nc=7 div=0.2: 100%|██████████| 493/493 [01:59<00:00,  4.11it/s]\n",
      "MMR ngram=(2, 2) nc=7 div=0.3: 100%|██████████| 493/493 [01:54<00:00,  4.29it/s]\n",
      "MMR ngram=(2, 2) nc=7 div=0.4: 100%|██████████| 493/493 [02:10<00:00,  3.78it/s]\n",
      "MMR ngram=(2, 2) nc=7 div=0.5: 100%|██████████| 493/493 [01:57<00:00,  4.20it/s]\n",
      "MMR ngram=(2, 2) nc=7 div=0.6: 100%|██████████| 493/493 [02:36<00:00,  3.16it/s]\n",
      "MMR ngram=(2, 2) nc=8 div=0.2: 100%|██████████| 493/493 [01:58<00:00,  4.16it/s]\n",
      "MMR ngram=(2, 2) nc=8 div=0.3: 100%|██████████| 493/493 [02:14<00:00,  3.68it/s]\n",
      "MMR ngram=(2, 2) nc=8 div=0.4: 100%|██████████| 493/493 [02:21<00:00,  3.49it/s]\n",
      "MMR ngram=(2, 2) nc=8 div=0.5: 100%|██████████| 493/493 [01:52<00:00,  4.38it/s]\n",
      "MMR ngram=(2, 2) nc=8 div=0.6: 100%|██████████| 493/493 [02:12<00:00,  3.72it/s]\n",
      "MMR ngram=(2, 3) nc=5 div=0.2: 100%|██████████| 493/493 [03:16<00:00,  2.51it/s]\n",
      "MMR ngram=(2, 3) nc=5 div=0.3: 100%|██████████| 493/493 [03:34<00:00,  2.30it/s]\n",
      "MMR ngram=(2, 3) nc=5 div=0.4: 100%|██████████| 493/493 [03:35<00:00,  2.28it/s]\n",
      "MMR ngram=(2, 3) nc=5 div=0.5: 100%|██████████| 493/493 [03:00<00:00,  2.74it/s]\n",
      "MMR ngram=(2, 3) nc=5 div=0.6: 100%|██████████| 493/493 [02:58<00:00,  2.76it/s]\n",
      "MMR ngram=(2, 3) nc=6 div=0.2: 100%|██████████| 493/493 [03:38<00:00,  2.26it/s]\n",
      "MMR ngram=(2, 3) nc=6 div=0.3: 100%|██████████| 493/493 [03:07<00:00,  2.63it/s]\n",
      "MMR ngram=(2, 3) nc=6 div=0.4: 100%|██████████| 493/493 [03:12<00:00,  2.55it/s]\n",
      "MMR ngram=(2, 3) nc=6 div=0.5: 100%|██████████| 493/493 [03:16<00:00,  2.51it/s]\n",
      "MMR ngram=(2, 3) nc=6 div=0.6: 100%|██████████| 493/493 [02:55<00:00,  2.81it/s]\n",
      "MMR ngram=(2, 3) nc=7 div=0.2: 100%|██████████| 493/493 [06:05<00:00,  1.35it/s]\n",
      "MMR ngram=(2, 3) nc=7 div=0.3: 100%|██████████| 493/493 [06:39<00:00,  1.23it/s]\n",
      "MMR ngram=(2, 3) nc=7 div=0.4: 100%|██████████| 493/493 [05:42<00:00,  1.44it/s]\n",
      "MMR ngram=(2, 3) nc=7 div=0.5: 100%|██████████| 493/493 [05:37<00:00,  1.46it/s]\n",
      "MMR ngram=(2, 3) nc=7 div=0.6: 100%|██████████| 493/493 [05:44<00:00,  1.43it/s]\n",
      "MMR ngram=(2, 3) nc=8 div=0.2: 100%|██████████| 493/493 [06:46<00:00,  1.21it/s]\n",
      "MMR ngram=(2, 3) nc=8 div=0.3: 100%|██████████| 493/493 [09:15<00:00,  1.13s/it]\n",
      "MMR ngram=(2, 3) nc=8 div=0.4: 100%|██████████| 493/493 [04:43<00:00,  1.74it/s]\n",
      "MMR ngram=(2, 3) nc=8 div=0.5: 100%|██████████| 493/493 [03:14<00:00,  2.53it/s]\n",
      "MMR ngram=(2, 3) nc=8 div=0.6: 100%|██████████| 493/493 [03:15<00:00,  2.52it/s]\n",
      "MMR ngram=(3, 3) nc=5 div=0.2: 100%|██████████| 493/493 [02:38<00:00,  3.11it/s]\n",
      "MMR ngram=(3, 3) nc=5 div=0.3: 100%|██████████| 493/493 [02:20<00:00,  3.50it/s]\n",
      "MMR ngram=(3, 3) nc=5 div=0.4: 100%|██████████| 493/493 [02:24<00:00,  3.42it/s]\n",
      "MMR ngram=(3, 3) nc=5 div=0.5: 100%|██████████| 493/493 [02:29<00:00,  3.31it/s]\n",
      "MMR ngram=(3, 3) nc=5 div=0.6: 100%|██████████| 493/493 [02:53<00:00,  2.84it/s]\n",
      "MMR ngram=(3, 3) nc=6 div=0.2: 100%|██████████| 493/493 [03:09<00:00,  2.60it/s]\n",
      "MMR ngram=(3, 3) nc=6 div=0.3: 100%|██████████| 493/493 [03:32<00:00,  2.32it/s]\n",
      "MMR ngram=(3, 3) nc=6 div=0.4: 100%|██████████| 493/493 [02:40<00:00,  3.08it/s]\n",
      "MMR ngram=(3, 3) nc=6 div=0.5: 100%|██████████| 493/493 [03:26<00:00,  2.39it/s]\n",
      "MMR ngram=(3, 3) nc=6 div=0.6: 100%|██████████| 493/493 [03:15<00:00,  2.52it/s]\n",
      "MMR ngram=(3, 3) nc=7 div=0.2: 100%|██████████| 493/493 [02:57<00:00,  2.78it/s]\n",
      "MMR ngram=(3, 3) nc=7 div=0.3: 100%|██████████| 493/493 [02:34<00:00,  3.19it/s]\n",
      "MMR ngram=(3, 3) nc=7 div=0.4: 100%|██████████| 493/493 [02:41<00:00,  3.06it/s]\n",
      "MMR ngram=(3, 3) nc=7 div=0.5: 100%|██████████| 493/493 [02:35<00:00,  3.17it/s]\n",
      "MMR ngram=(3, 3) nc=7 div=0.6: 100%|██████████| 493/493 [03:52<00:00,  2.12it/s]\n",
      "MMR ngram=(3, 3) nc=8 div=0.2: 100%|██████████| 493/493 [03:11<00:00,  2.58it/s]\n",
      "MMR ngram=(3, 3) nc=8 div=0.3: 100%|██████████| 493/493 [03:10<00:00,  2.59it/s]\n",
      "MMR ngram=(3, 3) nc=8 div=0.4: 100%|██████████| 493/493 [04:36<00:00,  1.78it/s]\n",
      "MMR ngram=(3, 3) nc=8 div=0.5: 100%|██████████| 493/493 [11:52<00:00,  1.45s/it]\n",
      "MMR ngram=(3, 3) nc=8 div=0.6: 100%|██████████| 493/493 [04:36<00:00,  1.78it/s]\n"
     ]
    }
   ],
   "source": [
    "# Run MMR tuning\n",
    "best_exact_mmr, best_params_exact_mmr, best_partial_mmr, best_params_partial_mmr = run_experiment(use_mmr=True)"
   ]
  },
  {
   "cell_type": "code",
   "execution_count": 12,
   "metadata": {},
   "outputs": [
    {
     "name": "stdout",
     "output_type": "stream",
     "text": [
      "best_exact_mmr, best_params_exact_mmr,: 0.2406693711967547, ((1, 2), 5, 0.2), best_partial_mmr, best_params_partial_mmr: 0.7376267748478705, ((1, 2), 5, 0.2)\n"
     ]
    }
   ],
   "source": [
    "print(f\"best_exact_mmr, best_params_exact_mmr,: {best_exact_mmr}, {best_params_exact_mmr}, best_partial_mmr, best_params_partial_mmr: {best_partial_mmr}, {best_params_partial_mmr}\")"
   ]
  },
  {
   "cell_type": "code",
   "execution_count": 10,
   "metadata": {},
   "outputs": [
    {
     "name": "stderr",
     "output_type": "stream",
     "text": [
      "MaxSum ngram=(1, 2) nc=5: 100%|██████████| 493/493 [03:57<00:00,  2.07it/s]\n",
      "MaxSum ngram=(1, 2) nc=6: 100%|██████████| 493/493 [02:46<00:00,  2.96it/s]\n",
      "MaxSum ngram=(1, 2) nc=7: 100%|██████████| 493/493 [02:29<00:00,  3.29it/s]\n",
      "MaxSum ngram=(1, 2) nc=8: 100%|██████████| 493/493 [02:36<00:00,  3.15it/s]\n",
      "MaxSum ngram=(1, 3) nc=5: 100%|██████████| 493/493 [03:49<00:00,  2.15it/s]\n",
      "MaxSum ngram=(1, 3) nc=6: 100%|██████████| 493/493 [04:02<00:00,  2.03it/s]\n",
      "MaxSum ngram=(1, 3) nc=7: 100%|██████████| 493/493 [04:25<00:00,  1.86it/s]\n",
      "MaxSum ngram=(1, 3) nc=8: 100%|██████████| 493/493 [05:58<00:00,  1.37it/s]\n",
      "MaxSum ngram=(2, 2) nc=5: 100%|██████████| 493/493 [02:17<00:00,  3.59it/s]\n",
      "MaxSum ngram=(2, 2) nc=6: 100%|██████████| 493/493 [02:13<00:00,  3.69it/s]\n",
      "MaxSum ngram=(2, 2) nc=7: 100%|██████████| 493/493 [02:12<00:00,  3.73it/s]\n",
      "MaxSum ngram=(2, 2) nc=8: 100%|██████████| 493/493 [02:21<00:00,  3.48it/s]\n",
      "MaxSum ngram=(2, 3) nc=5: 100%|██████████| 493/493 [04:03<00:00,  2.03it/s]\n",
      "MaxSum ngram=(2, 3) nc=6: 100%|██████████| 493/493 [03:58<00:00,  2.07it/s]\n",
      "MaxSum ngram=(2, 3) nc=7: 100%|██████████| 493/493 [03:38<00:00,  2.26it/s]\n",
      "MaxSum ngram=(2, 3) nc=8: 100%|██████████| 493/493 [04:21<00:00,  1.88it/s]\n",
      "MaxSum ngram=(3, 3) nc=5: 100%|██████████| 493/493 [03:22<00:00,  2.44it/s]\n",
      "MaxSum ngram=(3, 3) nc=6: 100%|██████████| 493/493 [02:50<00:00,  2.90it/s]\n",
      "MaxSum ngram=(3, 3) nc=7: 100%|██████████| 493/493 [03:57<00:00,  2.07it/s]\n",
      "MaxSum ngram=(3, 3) nc=8: 100%|██████████| 493/493 [03:20<00:00,  2.46it/s]\n"
     ]
    }
   ],
   "source": [
    "# Run MaxSum tuning\n",
    "best_exact_maxsum, best_params_exact_maxsum, best_partial_maxsum, best_params_partial_maxsum = run_experiment(use_maxsum=True)"
   ]
  },
  {
   "cell_type": "code",
   "execution_count": 13,
   "metadata": {},
   "outputs": [
    {
     "name": "stdout",
     "output_type": "stream",
     "text": [
      "best_exact_maxsum, best_params_exact_maxsum,: 0.2392832995267073, ((1, 2), 5), best_partial_maxsum, best_params_partial_maxsum: 0.7591615956727529, ((1, 2), 5)\n"
     ]
    }
   ],
   "source": [
    "print(f\"best_exact_maxsum, best_params_exact_maxsum,: {best_exact_maxsum}, {best_params_exact_maxsum}, best_partial_maxsum, best_params_partial_maxsum: {best_partial_maxsum}, {best_params_partial_maxsum}\")"
   ]
  },
  {
   "cell_type": "code",
   "execution_count": null,
   "metadata": {},
   "outputs": [],
   "source": []
  }
 ],
 "metadata": {
  "kernelspec": {
   "display_name": "NLP",
   "language": "python",
   "name": "python3"
  },
  "language_info": {
   "codemirror_mode": {
    "name": "ipython",
    "version": 3
   },
   "file_extension": ".py",
   "mimetype": "text/x-python",
   "name": "python",
   "nbconvert_exporter": "python",
   "pygments_lexer": "ipython3",
   "version": "3.9.21"
  }
 },
 "nbformat": 4,
 "nbformat_minor": 2
}
