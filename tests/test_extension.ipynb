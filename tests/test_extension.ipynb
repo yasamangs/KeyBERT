{
 "cells": [
  {
   "cell_type": "code",
   "execution_count": 13,
   "metadata": {},
   "outputs": [],
   "source": [
    "from keybert import KeyBERT\n",
    "import os\n",
    "import zipfile\n",
    "import urllib.request\n",
    "from tqdm import tqdm\n",
    "import spacy\n",
    "\n",
    "import os"
   ]
  },
  {
   "cell_type": "code",
   "execution_count": 14,
   "metadata": {},
   "outputs": [],
   "source": [
    "# Load spaCy and define post-processing functions\n",
    "nlp = spacy.load(\"en_core_web_sm\")"
   ]
  },
  {
   "cell_type": "markdown",
   "metadata": {},
   "source": [
    "## Post-Process Filters"
   ]
  },
  {
   "cell_type": "code",
   "execution_count": 15,
   "metadata": {},
   "outputs": [],
   "source": [
    "def pos_filter(keywords):\n",
    "    filtered = []\n",
    "    for kw, score in keywords:\n",
    "        doc = nlp(kw)\n",
    "        if all(token.pos_ in {\"NOUN\", \"PROPN\", \"ADJ\"} for token in doc):\n",
    "            filtered.append((kw, score))\n",
    "    return filtered\n",
    "\n",
    "def entity_boost(keywords, text):\n",
    "    doc = nlp(text)\n",
    "    entities = set(ent.text for ent in doc.ents)\n",
    "    boosted = []\n",
    "    for kw, score in keywords:\n",
    "        if kw in entities:\n",
    "            boosted.append((kw, score + 0.2))\n",
    "        else:\n",
    "            boosted.append((kw, score))\n",
    "    return boosted\n",
    "\n",
    "\n",
    "def advanced_postprocess(keywords, doc_text, nlp):\n",
    "    keywords = entity_boost(keywords, doc_text)\n",
    "    keywords = pos_filter(keywords)\n",
    "\n",
    "    return keywords"
   ]
  },
  {
   "cell_type": "markdown",
   "metadata": {},
   "source": [
    "## Evaluation metrics"
   ]
  },
  {
   "cell_type": "code",
   "execution_count": 20,
   "metadata": {},
   "outputs": [],
   "source": [
    "# Evaluation function: counts both exact and partial matches\n",
    "def evaluate_results(results_post, gold_keywords):\n",
    "    # Exact match\n",
    "    precisions_exact, recalls_exact, f1s_exact = [], [], []\n",
    "    for pred, gold in zip(results_post, gold_keywords):\n",
    "        pred_set = set(pred)\n",
    "        gold_set = set(gold)\n",
    "        exact_matches = set([p for p in pred_set if p in gold_set])\n",
    "        precision = len(exact_matches) / len(pred) if pred else 0\n",
    "        recall = len(exact_matches) / len(gold) if gold else 0\n",
    "        f1 = 2 * precision * recall / (precision + recall) if (precision + recall) else 0\n",
    "        precisions_exact.append(precision)\n",
    "        recalls_exact.append(recall)\n",
    "        f1s_exact.append(f1)\n",
    "    avg_precision_exact = sum(precisions_exact) / len(precisions_exact)\n",
    "    avg_recall_exact = sum(recalls_exact) / len(recalls_exact)\n",
    "    avg_f1_exact = sum(f1s_exact) / len(f1s_exact)\n",
    "\n",
    "\n",
    "    # Exact and Partial match\n",
    "    precisions, recalls, f1s = [], [], []\n",
    "    for pred, gold in zip(results_post, gold_keywords):\n",
    "        pred_set = set(pred)\n",
    "        gold_set = set(gold)\n",
    "        exact_matches = set([p for p in pred_set if p in gold_set])\n",
    "        partial_matches = set([\n",
    "            p for p in pred_set\n",
    "            if any((p in g or g in p) for g in gold_set) and p not in exact_matches\n",
    "        ])\n",
    "        total_matches = len(exact_matches) + len(partial_matches)\n",
    "        precision = total_matches / len(pred) if pred else 0\n",
    "        recall = total_matches / len(gold) if gold else 0\n",
    "        f1 = 2 * precision * recall / (precision + recall) if (precision + recall) else 0\n",
    "        precisions.append(precision)\n",
    "        recalls.append(recall)\n",
    "        f1s.append(f1)\n",
    "\n",
    "    avg_precision_both = sum(precisions) / len(precisions)\n",
    "    avg_recall_both = sum(recalls) / len(recalls)\n",
    "    avg_f1_both = sum(f1s) / len(f1s)\n",
    "\n",
    "    return avg_precision_exact, avg_recall_exact, avg_f1_exact, avg_precision_both, avg_recall_both, avg_f1_both"
   ]
  },
  {
   "cell_type": "markdown",
   "metadata": {},
   "source": [
    "## keybert"
   ]
  },
  {
   "cell_type": "code",
   "execution_count": 21,
   "metadata": {},
   "outputs": [],
   "source": [
    "# Initialize KeyBERT model\n",
    "kw_model = KeyBERT()"
   ]
  },
  {
   "cell_type": "markdown",
   "metadata": {},
   "source": [
    "## 500N Dataset"
   ]
  },
  {
   "cell_type": "code",
   "execution_count": 22,
   "metadata": {},
   "outputs": [],
   "source": [
    "# read docs and gold keywords   \n",
    "\n",
    "docs_dir = os.path.join(\"500N-KPCrowd-v1.1\", \"500N-KPCrowd-v1.1/docsutf8\")\n",
    "keys_dir = os.path.join(\"500N-KPCrowd-v1.1\", \"500N-KPCrowd-v1.1/keys\")\n",
    "doc_files = sorted(os.listdir(docs_dir))\n",
    "key_files = sorted(os.listdir(keys_dir))\n",
    "docs = []\n",
    "gold_keywords = [] \n",
    "for doc_file, key_file in zip(doc_files, key_files):\n",
    "    with open(os.path.join(docs_dir, doc_file), encoding='utf-8') as f:\n",
    "        docs.append(f.read())\n",
    "    with open(os.path.join(keys_dir, key_file), encoding='utf-8') as f:\n",
    "        gold_keywords.append([line.strip().lower() for line in f if line.strip()])"
   ]
  },
  {
   "cell_type": "markdown",
   "metadata": {},
   "source": [
    "### which post-processing function works best?"
   ]
  },
  {
   "cell_type": "code",
   "execution_count": 23,
   "metadata": {},
   "outputs": [
    {
     "name": "stderr",
     "output_type": "stream",
     "text": [
      "100%|██████████| 500/500 [05:22<00:00,  1.55it/s]"
     ]
    },
    {
     "name": "stdout",
     "output_type": "stream",
     "text": [
      "No Post-processing: Exact Precision 0.449, Exact Recall 0.055, Exact F1 0.096, Both Precision 0.750, Both Recall 0.098, Both F1 0.168\n",
      "Entity Boost: Exact Precision 0.449, Exact Recall 0.055, Exact F1 0.096, Both Precision 0.750, Both Recall 0.098, Both F1 0.168\n",
      "POS Filter: Exact Precision 0.454, Exact Recall 0.048, Exact F1 0.084, Both Precision 0.759, Both Recall 0.086, Both F1 0.149\n",
      "Advanced: Exact Precision 0.454, Exact Recall 0.048, Exact F1 0.084, Both Precision 0.759, Both Recall 0.086, Both F1 0.149\n"
     ]
    },
    {
     "name": "stderr",
     "output_type": "stream",
     "text": [
      "\n"
     ]
    }
   ],
   "source": [
    "# Extract keywords with and without post-processing for the full dataset\n",
    "N = 5  # Number of keywords to extract\n",
    "results_no_post = []\n",
    "results_entityboost = []\n",
    "results_posfilter = []\n",
    "results_advanced = []\n",
    "\n",
    "if __name__ == \"__main__\":\n",
    "    for doc in tqdm(docs):\n",
    "        # Entity boost postprocessing\n",
    "        kws_no_post = [kw for kw, _ in kw_model.extract_keywords(doc, top_n=N)]\n",
    "        kws_post_entityboost = kw_model.extract_keywords(\n",
    "            doc, top_n=N,\n",
    "            postprocess=lambda kws: entity_boost(kws, doc)\n",
    "        )\n",
    "        kws_post_entityboost = [kw for kw, _ in kws_post_entityboost]\n",
    "        results_no_post.append(kws_no_post)\n",
    "        results_entityboost.append(kws_post_entityboost)\n",
    "\n",
    "        # POS filter postprocessing\n",
    "        kws_post_posfilter = kw_model.extract_keywords(\n",
    "            doc, top_n=N,\n",
    "            postprocess=lambda kws: pos_filter(kws)\n",
    "        )\n",
    "        kws_post_posfilter = [kw for kw, _ in kws_post_posfilter]\n",
    "        results_posfilter.append(kws_post_posfilter)\n",
    "\n",
    "        # Advanced postprocessing\n",
    "        kws_post_advanced = kw_model.extract_keywords(\n",
    "            doc, top_n=N,\n",
    "            postprocess=lambda kws: advanced_postprocess(kws, doc, nlp)\n",
    "        )\n",
    "        kws_post_advanced = [kw for kw, _ in kws_post_advanced]\n",
    "        results_advanced.append(kws_post_advanced)\n",
    "\n",
    "        \n",
    "    exact_precision_no_post, exact_recall_no_post, exact_f1_no_post, both_precision_no_post, both_recall_no_post, both_f1_no_post = evaluate_results(results_no_post, gold_keywords)\n",
    "    exact_precision_entityboost, exact_recall_entityboost, exact_f1_entityboost, both_precision_entityboost, both_recall_entityboost, both_f1_entityboost = evaluate_results(results_entityboost, gold_keywords)\n",
    "    exact_precision_posfilter, exact_recall_posfilter, exact_f1_posfilter, both_precision_posfilter, both_recall_posfilter, both_f1_posfilter = evaluate_results(results_posfilter, gold_keywords)\n",
    "    exact_precision_advanced, exact_recall_advanced, exact_f1_advanced, both_precision_advanced, both_recall_advanced, both_f1_advanced = evaluate_results(results_advanced, gold_keywords)\n",
    "\n",
    "\n",
    "    print(\"No Post-processing: Exact Precision {:.3f}, Exact Recall {:.3f}, Exact F1 {:.3f}, Both Precision {:.3f}, Both Recall {:.3f}, Both F1 {:.3f}\".format(\n",
    "        exact_precision_no_post, exact_recall_no_post, exact_f1_no_post, both_precision_no_post, both_recall_no_post, both_f1_no_post))\n",
    "    \n",
    "    print(\"Entity Boost: Exact Precision {:.3f}, Exact Recall {:.3f}, Exact F1 {:.3f}, Both Precision {:.3f}, Both Recall {:.3f}, Both F1 {:.3f}\".format(\n",
    "        exact_precision_entityboost, exact_recall_entityboost, exact_f1_entityboost, both_precision_entityboost, both_recall_entityboost, both_f1_entityboost))\n",
    "    \n",
    "    print(\"POS Filter: Exact Precision {:.3f}, Exact Recall {:.3f}, Exact F1 {:.3f}, Both Precision {:.3f}, Both Recall {:.3f}, Both F1 {:.3f}\".format(\n",
    "        exact_precision_posfilter, exact_recall_posfilter, exact_f1_posfilter, both_precision_posfilter, both_recall_posfilter, both_f1_posfilter))\n",
    "    \n",
    "    print(\"Advanced: Exact Precision {:.3f}, Exact Recall {:.3f}, Exact F1 {:.3f}, Both Precision {:.3f}, Both Recall {:.3f}, Both F1 {:.3f}\".format(\n",
    "        exact_precision_advanced, exact_recall_advanced, exact_f1_advanced, both_precision_advanced, both_recall_advanced, both_f1_advanced))"
   ]
  },
  {
   "cell_type": "markdown",
   "metadata": {},
   "source": [
    "### Introducing MMR and Maxsum"
   ]
  },
  {
   "cell_type": "code",
   "execution_count": 25,
   "metadata": {},
   "outputs": [
    {
     "name": "stderr",
     "output_type": "stream",
     "text": [
      "100%|██████████| 500/500 [04:48<00:00,  1.73it/s]"
     ]
    },
    {
     "name": "stdout",
     "output_type": "stream",
     "text": [
      "No Post-processing_MMR: Exact Precision 0.441, Exact Recall 0.053, Exact F1 0.092, Both Precision 0.712, Both Recall 0.093, Both F1 0.159\n",
      "With Post-processing_MMR: Exact Precision 0.453, Exact Recall 0.044, Exact F1 0.078, Both Precision 0.733, Both Recall 0.078, Both F1 0.136\n",
      "No Post-processing_MaxSum: Exact Precision 0.346, Exact Recall 0.042, Exact F1 0.073, Both Precision 0.629, Both Recall 0.084, Both  F1 0.143\n",
      "With Post-processing_MaxSum: Exact Precision 0.353, Exact Recall 0.034, Exact F1 0.061, Both Precision 0.640, Both Recall 0.067, Both F1 0.118\n"
     ]
    },
    {
     "name": "stderr",
     "output_type": "stream",
     "text": [
      "\n"
     ]
    }
   ],
   "source": [
    "# Extract keywords with and without post-processing for the full dataset\n",
    "N = 5  # Number of keywords to extract\n",
    "results_no_post_mmr = []\n",
    "results_post_mmr = []\n",
    "results_no_post_maxsum = []\n",
    "results_post_maxsum = []\n",
    "\n",
    "if __name__ == \"__main__\":\n",
    "    for doc in tqdm(docs):\n",
    "        kws_no_post_mmr = [kw for kw, _ in kw_model.extract_keywords(doc, top_n=N, use_mmr=True)]\n",
    "        kws_post_mmr = kw_model.extract_keywords(\n",
    "            doc, top_n=N,\n",
    "            postprocess=lambda kws: pos_filter(kws),\n",
    "            use_mmr=True\n",
    "        )\n",
    "        kws_post_mmr = [kw for kw, _ in kws_post_mmr]\n",
    "        results_no_post_mmr.append(kws_no_post_mmr)\n",
    "        results_post_mmr.append(kws_post_mmr)\n",
    "        kws_no_post_maxsum = [kw for kw, _ in kw_model.extract_keywords(doc, top_n=N, use_maxsum=True)]\n",
    "        kws_post_maxsum = kw_model.extract_keywords(\n",
    "            doc, top_n=N,\n",
    "            postprocess=lambda kws: pos_filter(kws),\n",
    "            use_maxsum=True\n",
    "        )\n",
    "        kws_post_maxsum = [kw for kw, _ in kws_post_maxsum]\n",
    "        results_no_post_maxsum.append(kws_no_post_maxsum)\n",
    "        results_post_maxsum.append(kws_post_maxsum)\n",
    "\n",
    "    # Evaluate and print results\n",
    "    exact_precision_no_post_mmr, exact_recall_no_post_mmr, exact_f1_no_post_mmr, both_precision_no_post_mmr, both_recall_no_post_mmr, both_f1_no_post_mmr = evaluate_results(results_no_post_mmr, gold_keywords)\n",
    "    exact_precision_post_mmr, exact_recall_post_mmr, exact_f1_post_mmr, both_precision_post_mmr, both_recall_post_mmr, both_f1_post_mmr = evaluate_results(results_post_mmr, gold_keywords)\n",
    "\n",
    "    print(\"No Post-processing_MMR: Exact Precision {:.3f}, Exact Recall {:.3f}, Exact F1 {:.3f}, Both Precision {:.3f}, Both Recall {:.3f}, Both F1 {:.3f}\".format(\n",
    "        exact_precision_no_post_mmr, exact_recall_no_post_mmr, exact_f1_no_post_mmr, both_precision_no_post_mmr, both_recall_no_post_mmr, both_f1_no_post_mmr))\n",
    "    print(\"With Post-processing_MMR: Exact Precision {:.3f}, Exact Recall {:.3f}, Exact F1 {:.3f}, Both Precision {:.3f}, Both Recall {:.3f}, Both F1 {:.3f}\".format(\n",
    "        exact_precision_post_mmr, exact_recall_post_mmr, exact_f1_post_mmr, both_precision_post_mmr, both_recall_post_mmr, both_f1_post_mmr))\n",
    "\n",
    "    \n",
    "    exact_precision_no_post_maxsum, exact_recall_no_post_maxsum, exact_f1_no_post_maxsum, both_precision_no_post_maxsum, both_recall_no_post_maxsum, both_f1_no_post_maxsum = evaluate_results(results_no_post_maxsum, gold_keywords)\n",
    "    exact_precision_post_maxsum, exact_recall_post_maxsum, exact_f1_post_maxsum, both_precision_post_maxsum, both_recall_post_maxsum, both_f1_post_maxsum = evaluate_results(results_post_maxsum, gold_keywords)\n",
    "\n",
    "    print(\"No Post-processing_MaxSum: Exact Precision {:.3f}, Exact Recall {:.3f}, Exact F1 {:.3f}, Both Precision {:.3f}, Both Recall {:.3f}, Both  F1 {:.3f}\".format(\n",
    "        exact_precision_no_post_maxsum, exact_recall_no_post_maxsum, exact_f1_no_post_maxsum, both_precision_no_post_maxsum, both_recall_no_post_maxsum, both_f1_no_post_maxsum))\n",
    "    print(\"With Post-processing_MaxSum: Exact Precision {:.3f}, Exact Recall {:.3f}, Exact F1 {:.3f}, Both Precision {:.3f}, Both Recall {:.3f}, Both F1 {:.3f}\".format(\n",
    "        exact_precision_post_maxsum, exact_recall_post_maxsum, exact_f1_post_maxsum, both_precision_post_maxsum, both_recall_post_maxsum, both_f1_post_maxsum))"
   ]
  },
  {
   "cell_type": "markdown",
   "metadata": {},
   "source": [
    "## SemEval Dataset"
   ]
  },
  {
   "cell_type": "code",
   "execution_count": 26,
   "metadata": {},
   "outputs": [],
   "source": [
    "import os\n",
    "\n",
    "# read docs and gold keywords   \n",
    "\n",
    "docs_dir = os.path.join(\"SemEval2017\", \"docsutf8\")\n",
    "keys_dir = os.path.join(\"SemEval2017\", \"keys\")\n",
    "doc_files = sorted(os.listdir(docs_dir))\n",
    "key_files = sorted(os.listdir(keys_dir))\n",
    "docs = []\n",
    "gold_keywords = [] \n",
    "for doc_file, key_file in zip(doc_files, key_files):\n",
    "    with open(os.path.join(docs_dir, doc_file), encoding='utf-8') as f:\n",
    "        docs.append(f.read())\n",
    "    with open(os.path.join(keys_dir, key_file), encoding='utf-8') as f:\n",
    "        gold_keywords.append([line.strip().lower() for line in f if line.strip()])"
   ]
  },
  {
   "cell_type": "markdown",
   "metadata": {},
   "source": [
    "### which post-processing function works best?"
   ]
  },
  {
   "cell_type": "code",
   "execution_count": 27,
   "metadata": {},
   "outputs": [
    {
     "name": "stderr",
     "output_type": "stream",
     "text": [
      "100%|██████████| 493/493 [03:05<00:00,  2.66it/s]"
     ]
    },
    {
     "name": "stdout",
     "output_type": "stream",
     "text": [
      "No Post-processing: Exact Precision 0.200, Exact Recall 0.059, Exact F1 0.088, Both Precision 0.865, Both Recall 0.285, Both F1 0.415\n",
      "Entity Boost: Exact Precision 0.200, Exact Recall 0.059, Exact F1 0.088, Both Precision 0.865, Both Recall 0.285, Both F1 0.415\n",
      "POS Filter: Exact Precision 0.202, Exact Recall 0.049, Exact F1 0.075, Both Precision 0.872, Both Recall 0.246, Both F1 0.368\n",
      "Advanced: Exact Precision 0.202, Exact Recall 0.049, Exact F1 0.075, Both Precision 0.872, Both Recall 0.246, Both F1 0.368\n"
     ]
    },
    {
     "name": "stderr",
     "output_type": "stream",
     "text": [
      "\n"
     ]
    }
   ],
   "source": [
    "# Extract keywords with and without post-processing for the full dataset\n",
    "N = 5  # Number of keywords to extract\n",
    "results_no_post = []\n",
    "results_entityboost = []\n",
    "results_posfilter = []\n",
    "results_advanced = []\n",
    "\n",
    "if __name__ == \"__main__\":\n",
    "    for doc in tqdm(docs):\n",
    "        # Entity boost postprocessing\n",
    "        kws_no_post = [kw for kw, _ in kw_model.extract_keywords(doc, top_n=N)]\n",
    "        kws_post_entityboost = kw_model.extract_keywords(\n",
    "            doc, top_n=N,\n",
    "            postprocess=lambda kws: entity_boost(kws, doc)\n",
    "        )\n",
    "        kws_post_entityboost = [kw for kw, _ in kws_post_entityboost]\n",
    "        results_no_post.append(kws_no_post)\n",
    "        results_entityboost.append(kws_post_entityboost)\n",
    "\n",
    "        # POS filter postprocessing\n",
    "        kws_post_posfilter = kw_model.extract_keywords(\n",
    "            doc, top_n=N,\n",
    "            postprocess=lambda kws: pos_filter(kws)\n",
    "        )\n",
    "        kws_post_posfilter = [kw for kw, _ in kws_post_posfilter]\n",
    "        results_posfilter.append(kws_post_posfilter)\n",
    "\n",
    "        # Advanced postprocessing\n",
    "        kws_post_advanced = kw_model.extract_keywords(\n",
    "            doc, top_n=N,\n",
    "            postprocess=lambda kws: advanced_postprocess(kws, doc, nlp)\n",
    "        )\n",
    "        kws_post_advanced = [kw for kw, _ in kws_post_advanced]\n",
    "        results_advanced.append(kws_post_advanced)\n",
    "\n",
    "        \n",
    "    exact_precision_no_post, exact_recall_no_post, exact_f1_no_post, both_precision_no_post, both_recall_no_post, both_f1_no_post = evaluate_results(results_no_post, gold_keywords)\n",
    "    exact_precision_entityboost, exact_recall_entityboost, exact_f1_entityboost, both_precision_entityboost, both_recall_entityboost, both_f1_entityboost = evaluate_results(results_entityboost, gold_keywords)\n",
    "    exact_precision_posfilter, exact_recall_posfilter, exact_f1_posfilter, both_precision_posfilter, both_recall_posfilter, both_f1_posfilter = evaluate_results(results_posfilter, gold_keywords)\n",
    "    exact_precision_advanced, exact_recall_advanced, exact_f1_advanced, both_precision_advanced, both_recall_advanced, both_f1_advanced = evaluate_results(results_advanced, gold_keywords)\n",
    "\n",
    "\n",
    "    print(\"No Post-processing: Exact Precision {:.3f}, Exact Recall {:.3f}, Exact F1 {:.3f}, Both Precision {:.3f}, Both Recall {:.3f}, Both F1 {:.3f}\".format(\n",
    "        exact_precision_no_post, exact_recall_no_post, exact_f1_no_post, both_precision_no_post, both_recall_no_post, both_f1_no_post))\n",
    "    \n",
    "    print(\"Entity Boost: Exact Precision {:.3f}, Exact Recall {:.3f}, Exact F1 {:.3f}, Both Precision {:.3f}, Both Recall {:.3f}, Both F1 {:.3f}\".format(\n",
    "        exact_precision_entityboost, exact_recall_entityboost, exact_f1_entityboost, both_precision_entityboost, both_recall_entityboost, both_f1_entityboost))\n",
    "    \n",
    "    print(\"POS Filter: Exact Precision {:.3f}, Exact Recall {:.3f}, Exact F1 {:.3f}, Both Precision {:.3f}, Both Recall {:.3f}, Both F1 {:.3f}\".format(\n",
    "        exact_precision_posfilter, exact_recall_posfilter, exact_f1_posfilter, both_precision_posfilter, both_recall_posfilter, both_f1_posfilter))\n",
    "    \n",
    "    print(\"Advanced: Exact Precision {:.3f}, Exact Recall {:.3f}, Exact F1 {:.3f}, Both Precision {:.3f}, Both Recall {:.3f}, Both F1 {:.3f}\".format(\n",
    "        exact_precision_advanced, exact_recall_advanced, exact_f1_advanced, both_precision_advanced, both_recall_advanced, both_f1_advanced))"
   ]
  },
  {
   "cell_type": "markdown",
   "metadata": {},
   "source": [
    "### Introducing MMR and Maxsum"
   ]
  },
  {
   "cell_type": "code",
   "execution_count": 28,
   "metadata": {},
   "outputs": [
    {
     "name": "stderr",
     "output_type": "stream",
     "text": [
      "100%|██████████| 493/493 [03:33<00:00,  2.31it/s]"
     ]
    },
    {
     "name": "stdout",
     "output_type": "stream",
     "text": [
      "No Post-processing_MMR: Exact Precision 0.183, Exact Recall 0.054, Exact F1 0.081, Both Precision 0.830, Both Recall 0.273, Both F1 0.398\n",
      "With Post-processing_MMR: Exact Precision 0.189, Exact Recall 0.045, Exact F1 0.070, Both Precision 0.841, Both Recall 0.233, Both F1 0.350\n",
      "No Post-processing_MaxSum: Exact Precision 0.154, Exact Recall 0.045, Exact F1 0.068, Both Precision 0.754, Both Recall 0.245, Both  F1 0.357\n",
      "With Post-processing_MaxSum: Exact Precision 0.151, Exact Recall 0.035, Exact F1 0.055, Both Precision 0.766, Both Recall 0.200, Both F1 0.304\n"
     ]
    },
    {
     "name": "stderr",
     "output_type": "stream",
     "text": [
      "\n"
     ]
    }
   ],
   "source": [
    "# Extract keywords with and without post-processing for the full dataset\n",
    "N = 5  # Number of keywords to extract\n",
    "results_no_post_mmr = []\n",
    "results_post_mmr = []\n",
    "results_no_post_maxsum = []\n",
    "results_post_maxsum = []\n",
    "\n",
    "if __name__ == \"__main__\":\n",
    "    for doc in tqdm(docs):\n",
    "        kws_no_post_mmr = [kw for kw, _ in kw_model.extract_keywords(doc, top_n=N, use_mmr=True)]\n",
    "        kws_post_mmr = kw_model.extract_keywords(\n",
    "            doc, top_n=N,\n",
    "            postprocess=lambda kws: pos_filter(kws),\n",
    "            use_mmr=True\n",
    "        )\n",
    "        kws_post_mmr = [kw for kw, _ in kws_post_mmr]\n",
    "        results_no_post_mmr.append(kws_no_post_mmr)\n",
    "        results_post_mmr.append(kws_post_mmr)\n",
    "        kws_no_post_maxsum = [kw for kw, _ in kw_model.extract_keywords(doc, top_n=N, use_maxsum=True)]\n",
    "        kws_post_maxsum = kw_model.extract_keywords(\n",
    "            doc, top_n=N,\n",
    "            postprocess=lambda kws: pos_filter(kws),\n",
    "            use_maxsum=True\n",
    "        )\n",
    "        kws_post_maxsum = [kw for kw, _ in kws_post_maxsum]\n",
    "        results_no_post_maxsum.append(kws_no_post_maxsum)\n",
    "        results_post_maxsum.append(kws_post_maxsum)\n",
    "\n",
    "    # Evaluate and print results\n",
    "    exact_precision_no_post_mmr, exact_recall_no_post_mmr, exact_f1_no_post_mmr, both_precision_no_post_mmr, both_recall_no_post_mmr, both_f1_no_post_mmr = evaluate_results(results_no_post_mmr, gold_keywords)\n",
    "    exact_precision_post_mmr, exact_recall_post_mmr, exact_f1_post_mmr, both_precision_post_mmr, both_recall_post_mmr, both_f1_post_mmr = evaluate_results(results_post_mmr, gold_keywords)\n",
    "\n",
    "    print(\"No Post-processing_MMR: Exact Precision {:.3f}, Exact Recall {:.3f}, Exact F1 {:.3f}, Both Precision {:.3f}, Both Recall {:.3f}, Both F1 {:.3f}\".format(\n",
    "        exact_precision_no_post_mmr, exact_recall_no_post_mmr, exact_f1_no_post_mmr, both_precision_no_post_mmr, both_recall_no_post_mmr, both_f1_no_post_mmr))\n",
    "    print(\"With Post-processing_MMR: Exact Precision {:.3f}, Exact Recall {:.3f}, Exact F1 {:.3f}, Both Precision {:.3f}, Both Recall {:.3f}, Both F1 {:.3f}\".format(\n",
    "        exact_precision_post_mmr, exact_recall_post_mmr, exact_f1_post_mmr, both_precision_post_mmr, both_recall_post_mmr, both_f1_post_mmr))\n",
    "\n",
    "    \n",
    "    exact_precision_no_post_maxsum, exact_recall_no_post_maxsum, exact_f1_no_post_maxsum, both_precision_no_post_maxsum, both_recall_no_post_maxsum, both_f1_no_post_maxsum = evaluate_results(results_no_post_maxsum, gold_keywords)\n",
    "    exact_precision_post_maxsum, exact_recall_post_maxsum, exact_f1_post_maxsum, both_precision_post_maxsum, both_recall_post_maxsum, both_f1_post_maxsum = evaluate_results(results_post_maxsum, gold_keywords)\n",
    "\n",
    "    print(\"No Post-processing_MaxSum: Exact Precision {:.3f}, Exact Recall {:.3f}, Exact F1 {:.3f}, Both Precision {:.3f}, Both Recall {:.3f}, Both  F1 {:.3f}\".format(\n",
    "        exact_precision_no_post_maxsum, exact_recall_no_post_maxsum, exact_f1_no_post_maxsum, both_precision_no_post_maxsum, both_recall_no_post_maxsum, both_f1_no_post_maxsum))\n",
    "    print(\"With Post-processing_MaxSum: Exact Precision {:.3f}, Exact Recall {:.3f}, Exact F1 {:.3f}, Both Precision {:.3f}, Both Recall {:.3f}, Both F1 {:.3f}\".format(\n",
    "        exact_precision_post_maxsum, exact_recall_post_maxsum, exact_f1_post_maxsum, both_precision_post_maxsum, both_recall_post_maxsum, both_f1_post_maxsum))"
   ]
  },
  {
   "cell_type": "code",
   "execution_count": null,
   "metadata": {},
   "outputs": [],
   "source": []
  }
 ],
 "metadata": {
  "kernelspec": {
   "display_name": "NLP",
   "language": "python",
   "name": "python3"
  },
  "language_info": {
   "codemirror_mode": {
    "name": "ipython",
    "version": 3
   },
   "file_extension": ".py",
   "mimetype": "text/x-python",
   "name": "python",
   "nbconvert_exporter": "python",
   "pygments_lexer": "ipython3",
   "version": "3.9.21"
  }
 },
 "nbformat": 4,
 "nbformat_minor": 2
}
